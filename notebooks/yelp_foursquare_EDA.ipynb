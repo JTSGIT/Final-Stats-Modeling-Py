{
 "cells": [
  {
   "cell_type": "code",
   "execution_count": 1,
   "metadata": {},
   "outputs": [],
   "source": [
    "import pandas as pd\n",
    "import requests"
   ]
  },
  {
   "cell_type": "markdown",
   "metadata": {},
   "source": [
    "# Foursquare"
   ]
  },
  {
   "cell_type": "markdown",
   "metadata": {},
   "source": [
    "Send a request to Foursquare with a small radius (1000m) for all the bike stations in your city of choice. "
   ]
  },
  {
   "cell_type": "code",
   "execution_count": 10,
   "metadata": {},
   "outputs": [],
   "source": [
    "API_KEY = 'hidden'\n",
    "\n",
    "def fetch_bike_rentals_from_foursquare(lat, lon, radius=1000, limit=50):\n",
    "    \"\"\"\n",
    "    \"\"\"\n",
    "    url = \"https://api.foursquare.com/v3/places/search\"\n",
    "    headers = {\n",
    "        \"Accept\": \"application/json\",\n",
    "        \"Authorization\": API_KEY\n",
    "    }\n",
    "    params = {\n",
    "        'll': f\"{lat},{lon}\",\n",
    "        'radius': radius,\n",
    "        'limit': limit,\n",
    "        'categories': '19002'  # Foursquare category ID for bike rentals\n",
    "    }\n",
    "    response = requests.get(url, headers=headers, params=params)\n",
    "    if response.status_code == 200:\n",
    "        rentals = response.json()['results']\n",
    "        return [{\n",
    "            'rental_name': rental['name'],\n",
    "            'rental_lat': rental['geocodes']['main']['latitude'],\n",
    "            'rental_lon': rental['geocodes']['main']['longitude'],\n",
    "            'rental_address': rental.get('location', {}).get('address', 'No Address Provided')\n",
    "        } for rental in rentals]\n",
    "    else:\n",
    "        print(f\"Failed to fetch data: {response.status_code} - {response.reason}\")\n",
    "        return []\n",
    "\n",
    "# Single latitude and longitude in Barcelona for 1000m radius search\n",
    "latitude = 41.40902\n",
    "longitude = 2.195415\n",
    "\n",
    "# Fetch nearby bike rentals from Foursquare\n",
    "bike_rentals = fetch_bike_rentals_from_foursquare(latitude, longitude)\n",
    "\n",
    "# Convert the collected data into a DataFrame\n",
    "rentals_df = pd.DataFrame(bike_rentals)\n",
    "rentals_df['station'] = 'C/ BILBAO, 174'\n",
    "\n",
    "# Save the data to a CSV file\n",
    "csv_file_path = \"/Users/jorgen/Documents/LHL/project/Statistical-Modeling-with-Python/data/foursquare_bike_rentals.csv\"\n",
    "rentals_df.to_csv(csv_file_path, index=False)"
   ]
  },
  {
   "cell_type": "markdown",
   "metadata": {},
   "source": [
    "Parse through the response to get the POI (such as restaurants, bars, etc) details you want (ratings, name, location, etc)"
   ]
  },
  {
   "cell_type": "code",
   "execution_count": 3,
   "metadata": {},
   "outputs": [],
   "source": [
    "API_KEY = 'hidden'\n",
    "stations_df = pd.DataFrame({\n",
    "    'station_id': [1, 2, 3],\n",
    "    'latitude': [41.387015, 41.391947, 41.396992],\n",
    "    'longitude': [2.170047, 2.164485, 2.165105]\n",
    "})\n"
   ]
  },
  {
   "cell_type": "code",
   "execution_count": 4,
   "metadata": {},
   "outputs": [],
   "source": [
    "\n",
    "def fetch_and_parse_pois(lat, lon, radius=1000, limit=50):\n",
    "    \"\"\"\n",
    "    Fetches POIs from Foursquare around a given latitude and longitude.\n",
    "    Parses the response to extract names, locations, and ratings of venues.\n",
    "    \"\"\"\n",
    "    url = \"https://api.foursquare.com/v3/places/search\"\n",
    "    headers = {\"Authorization\": API_KEY}\n",
    "    params = {'ll': f\"{lat},{lon}\", 'radius': radius, 'limit': limit, 'sort': 'RATING'}\n",
    "    response = requests.get(url, headers=headers, params=params)\n",
    "    \n",
    "    if response.status_code == 200:\n",
    "        venues = response.json()['results']\n",
    "        parsed_venues = []\n",
    "        for venue in venues:\n",
    "            venue_details = {\n",
    "                'name': venue['name'],\n",
    "                'latitude': venue['geocodes']['main']['latitude'],\n",
    "                'longitude': venue['geocodes']['main']['longitude'],\n",
    "                'rating': venue.get('rating', 'No rating')  # Use 'No rating' if rating is not available\n",
    "            }\n",
    "            parsed_venues.append(venue_details)\n",
    "        return parsed_venues\n",
    "    else:\n",
    "        print(f\"Failed to fetch POIs: {response.status_code}\")\n",
    "        return []\n"
   ]
  },
  {
   "cell_type": "code",
   "execution_count": 5,
   "metadata": {},
   "outputs": [],
   "source": [
    "\n",
    "# Fetch and parse POIs for a sample station\n",
    "example_pois = fetch_and_parse_pois(stations_df.iloc[0]['latitude'], stations_df.iloc[0]['longitude'])\n",
    "\n",
    "# Notes:\n",
    "# - Parses each POI to extract and return a simplified dictionary of details.\n",
    "# - Handles cases where a POI does not have a rating.\n",
    "# - Checks the status code of the response to handle failed requests."
   ]
  },
  {
   "cell_type": "markdown",
   "metadata": {},
   "source": [
    "Put your parsed results into a DataFrame"
   ]
  },
  {
   "cell_type": "code",
   "execution_count": 6,
   "metadata": {},
   "outputs": [],
   "source": [
    "all_pois = []\n",
    "\n",
    "for _, row in stations_df.iterrows():\n",
    "    pois = fetch_and_parse_pois(row['latitude'], row['longitude'])\n",
    "    all_pois.extend(pois)  # Combine POIs from all stations\n",
    "\n",
    "pois_df = pd.DataFrame(all_pois)\n",
    "\n",
    "# Notes:\n",
    "# - Iterates through each bike station to fetch nearby POIs.\n",
    "# - Combines all fetched POIs into a single list of dictionaries.\n",
    "# - Converts this list into a DataFrame for easy handling and analysis."
   ]
  },
  {
   "cell_type": "markdown",
   "metadata": {},
   "source": [
    "# Yelp"
   ]
  },
  {
   "cell_type": "markdown",
   "metadata": {},
   "source": [
    "Send a request to Yelp with a small radius (1000m) for all the bike stations in Barcelona"
   ]
  },
  {
   "cell_type": "code",
   "execution_count": 7,
   "metadata": {},
   "outputs": [
    {
     "name": "stdout",
     "output_type": "stream",
     "text": [
      "Data successfully saved to /Users/jorgen/Documents/LHL/project/Statistical-Modeling-with-Python/data/yelp_bike_data.csv\n"
     ]
    }
   ],
   "source": [
    "#fetch Yelp data of bike stations s with ratings and save to CSV\n",
    "def fetch_and_save_yelp_data():\n",
    "    # API Key and header setup\n",
    "    api_key = \"hidden\"\n",
    "    headers = {\n",
    "        \"Authorization\": f\"Bearer {api_key}\",\n",
    "        \"accept\": \"application/json\"\n",
    "    }\n",
    "\n",
    "    # URL with pre-defined query parameters\n",
    "    url = \"https://api.yelp.com/v3/businesses/search?location=Barcelona&latitude=41.40902&longitude=2.195415&radius=1000&categories=bikerentals&sort_by=rating&limit=50\"\n",
    "\n",
    "    # Send request\n",
    "    response = requests.get(url, headers=headers)\n",
    "\n",
    "    if response.status_code == 200:\n",
    "        data = response.json()\n",
    "        businesses = data.get('businesses', [])\n",
    "\n",
    "        # Creating DataFrame from bike rental data\n",
    "        df = pd.DataFrame([{\n",
    "            'Name': business['name'],\n",
    "            'Rating': business.get('rating'),\n",
    "            'Location': business['location']['address1'],\n",
    "            'Latitude': business['coordinates']['latitude'],\n",
    "            'Longitude': business['coordinates']['longitude']\n",
    "        } for business in businesses])\n",
    "        \n",
    "        # File path\n",
    "        file_path = \"/Users/jorgen/Documents/LHL/project/Statistical-Modeling-with-Python/data/yelp_bike_data.csv\"\n",
    "        \n",
    "        # Save to CSV \n",
    "        df.to_csv(file_path, index=False)\n",
    "        print(f\"Data successfully saved to {file_path}\")\n",
    "    else:\n",
    "        print(f\"Failed to fetch data: {response.status_code} - {response.text}\")\n",
    "\n",
    "# Call the function to fetch data and save it\n",
    "fetch_and_save_yelp_data()"
   ]
  },
  {
   "cell_type": "markdown",
   "metadata": {},
   "source": [
    "Parse through the response to get the POI (such as restaurants, bars, etc) details you want (ratings, name, location, etc)"
   ]
  },
  {
   "cell_type": "code",
   "execution_count": 8,
   "metadata": {},
   "outputs": [
    {
     "name": "stdout",
     "output_type": "stream",
     "text": [
      "Data successfully saved to /Users/jorgen/Documents/LHL/project/Statistical-Modeling-with-Python/data/yelp_business_data.csv\n"
     ]
    }
   ],
   "source": [
    "#fetch Yelp data of resturants and bars with ratings and save to CSV\n",
    "def fetch_and_save_yelp_data():\n",
    "    # API Key and header setup\n",
    "    api_key = \"hidden\"\n",
    "    headers = {\n",
    "        \"Authorization\": f\"Bearer {api_key}\",\n",
    "        \"accept\": \"application/json\"\n",
    "    }\n",
    "\n",
    "    # URL with pre-defined query parameters\n",
    "    url = \"https://api.yelp.com/v3/businesses/search?location=Barcelona&latitude=41.40902&longitude=2.195415&categories=restaurants,bars&sort_by=rating&limit=50\"\n",
    "\n",
    "    # Send request\n",
    "    response = requests.get(url, headers=headers)\n",
    "\n",
    "    if response.status_code == 200:\n",
    "        data = response.json()\n",
    "        businesses = data.get('businesses', [])\n",
    "\n",
    "             # Creating DataFrame from business data\n",
    "        df = pd.DataFrame([{\n",
    "            'Name': business['name'],\n",
    "            'Rating': business.get('rating'),\n",
    "            'Location': business['location']['address1'],\n",
    "            'Latitude': business['coordinates']['latitude'],\n",
    "            'Longitude': business['coordinates']['longitude']\n",
    "        } for business in businesses])\n",
    "        \n",
    "        # File path\n",
    "        file_path = \"/Users/jorgen/Documents/LHL/project/Statistical-Modeling-with-Python/data/yelp_business_data.csv\"\n",
    "        \n",
    "        # Save to CSV \n",
    "        df.to_csv(file_path, index=False)\n",
    "        print(f\"Data successfully saved to {file_path}\")\n",
    "    else:\n",
    "        print(f\"Failed to fetch data: {response.status_code} - {response.text}\")\n",
    "\n",
    "# Call the function to fetch data and save it\n",
    "fetch_and_save_yelp_data()\n",
    "\n"
   ]
  },
  {
   "cell_type": "markdown",
   "metadata": {},
   "source": [
    "Put your parsed results into a DataFrame"
   ]
  },
  {
   "cell_type": "markdown",
   "metadata": {},
   "source": [
    "# Comparing Results"
   ]
  },
  {
   "cell_type": "markdown",
   "metadata": {},
   "source": [
    "Which API provided you with more complete data? Provide an explanation. "
   ]
  },
  {
   "cell_type": "markdown",
   "metadata": {},
   "source": [
    "Foursquare: Provided a more extensive list of bike rental locations, making it useful for understanding geographic distribution and accessibility.\n",
    "\n",
    "Yelp: Offered fewer locations but included detailed user ratings and reviews, which are valuable for assessing customer satisfaction and service quality.\n",
    "\n",
    "Conclusion: Foursquare excels in quantity, making it ideal for broad analyses, while Yelp provides richer detail that aids in evaluating the quality of services."
   ]
  },
  {
   "cell_type": "markdown",
   "metadata": {},
   "source": [
    "Get the top 10 restaurants according to their rating"
   ]
  },
  {
   "cell_type": "code",
   "execution_count": 9,
   "metadata": {},
   "outputs": [
    {
     "name": "stdout",
     "output_type": "stream",
     "text": [
      "Top 10 Yelp Restaurants:\n",
      "               Name  Rating                        Location\n",
      "0           Ginette     5.0       Carrer del Rec Comtal, 12\n",
      "1        Pasticelía     5.0            Carrer de París, 165\n",
      "2     Lilith & Sons     5.0      Carrer d'En Fontrodona, 23\n",
      "3      Imperfecto36     5.0          Carrer de la Mercè, 36\n",
      "4           Itacate     5.0    Carrer de Comte Borrell, 107\n",
      "5        Stop & Mos     5.0  Carrer de los Castillejos, 158\n",
      "6            Somnia     5.0            Calle Montserrat, 13\n",
      "7        Obsessions     5.0    Carrer Nou de la Rambla, 149\n",
      "8  El Bar del Basko     5.0           Carrer de Guitert, 19\n",
      "9      La Catalista     5.0         Carrer dels Carders, 11\n",
      "\n",
      "Top 10 Foursquare Restaurants:\n",
      "                  Name  Rating  \\\n",
      "25        La Catalista     5.0   \n",
      "13                TAPS     4.9   \n",
      "27           Cremat 11     4.9   \n",
      "31           Le Romane     4.9   \n",
      "36   Sucursal Aceitera     4.9   \n",
      "6   Churrería Laietana     4.8   \n",
      "7            Micu Maku     4.8   \n",
      "10        Billy Brunch     4.8   \n",
      "22           Disfrutar     4.8   \n",
      "26     Paisano Bistró      4.8   \n",
      "\n",
      "                                             Location  \n",
      "25             Carrer dels Carders, 11, Barcelona, ES  \n",
      "13  Carrer de Mare de Deu del Remei, 53, Barcelona...  \n",
      "27              Carrer Cremat Gran, 11, Barcelona, ES  \n",
      "31             Carrer de Muntaner, 103, Barcelona, ES  \n",
      "36        Carrer del Comte Borrell, 36, Barcelona, ES  \n",
      "6                     Via Laietana, 46, Barcelona, ES  \n",
      "7                  Carrer d'Aribau, 22, Barcelona, ES  \n",
      "10               Carrer de Bailèn, 115, Barcelona, ES  \n",
      "22           Carrer de Villarroel, 163, Barcelona, ES  \n",
      "26               Carrer de Lepant, 277, Barcelona, ES  \n"
     ]
    }
   ],
   "source": [
    "# Load Yelp business data\n",
    "yelp_path = '/Users/jorgen/Documents/LHL/project/Statistical-Modeling-with-Python/data/yelp_business_data.csv'\n",
    "yelp_data = pd.read_csv(yelp_path)\n",
    "top10_yelp = yelp_data.nlargest(10, 'Rating')\n",
    "print(\"Top 10 Yelp Restaurants:\")\n",
    "print(top10_yelp[['Name', 'Rating', 'Location']])  # Show relevant columns\n",
    "\n",
    "# Load Foursquare restaurant data\n",
    "foursquare_path = '/Users/jorgen/Documents/LHL/project/Statistical-Modeling-with-Python/data/restaurants_df.csv'\n",
    "foursquare_data = pd.read_csv(foursquare_path)\n",
    "top10_foursquare = foursquare_data.nlargest(10, 'Rating')\n",
    "print(\"\\nTop 10 Foursquare Restaurants:\")\n",
    "print(top10_foursquare[['Name', 'Rating', 'Location']])  # Show relevant columns\n",
    "\n",
    "#Note: Fetching top 10 resturans for yelp and Foursquare independently so I can check for any potentiel issues before moving out to Joining data in part 3"
   ]
  }
 ],
 "metadata": {
  "kernelspec": {
   "display_name": "Python 3",
   "language": "python",
   "name": "python3"
  },
  "language_info": {
   "codemirror_mode": {
    "name": "ipython",
    "version": 3
   },
   "file_extension": ".py",
   "mimetype": "text/x-python",
   "name": "python",
   "nbconvert_exporter": "python",
   "pygments_lexer": "ipython3",
   "version": "3.11.5"
  }
 },
 "nbformat": 4,
 "nbformat_minor": 4
}
