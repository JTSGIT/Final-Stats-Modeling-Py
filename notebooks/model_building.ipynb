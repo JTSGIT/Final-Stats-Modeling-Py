{
 "cells": [
  {
   "cell_type": "markdown",
   "metadata": {},
   "source": [
    "Build a regression model."
   ]
  },
  {
   "cell_type": "code",
   "execution_count": 81,
   "metadata": {},
   "outputs": [],
   "source": [
    "import pandas as pd\n",
    "import numpy as np\n",
    "import matplotlib.pyplot as plt\n",
    "import seaborn as sns"
   ]
  },
  {
   "cell_type": "code",
   "execution_count": 82,
   "metadata": {},
   "outputs": [],
   "source": [
    "import pandas as pd\n",
    "import numpy as np\n",
    "\n",
    "def haversine(lon1, lat1, lon2, lat2):\n",
    "    \"\"\"\n",
    "    Calculate the great circle distance in kilometers between two points \n",
    "    on the earth (specified in decimal degrees).\n",
    "    \"\"\"\n",
    "    # Convert decimal degrees to radians \n",
    "    lon1, lat1, lon2, lat2 = map(np.radians, [lon1, lat1, lon2, lat2])\n",
    "    \n",
    "    # Haversine formula \n",
    "    dlon = lon2 - lon1 \n",
    "    dlat = lat2 - lat1 \n",
    "    a = np.sin(dlat/2)**2 + np.cos(lat1) * np.cos(lat2) * np.sin(dlon/2)**2\n",
    "    c = 2 * np.arcsin(np.sqrt(a)) \n",
    "    r = 6371  # Radius of Earth in kilometers\n",
    "    return c * r\n",
    "\n",
    "# Load data\n",
    "stations_df = pd.read_csv(\"/Users/jorgen/Documents/LHL/project/Statistical-Modeling-with-Python/data/stations_data.csv\")\n",
    "restaurants_df = pd.read_csv(\"/Users/jorgen/Documents/LHL/project/Statistical-Modeling-with-Python/data/merged_restaurants.csv\")\n"
   ]
  },
  {
   "cell_type": "code",
   "execution_count": 83,
   "metadata": {},
   "outputs": [],
   "source": [
    "def closest_restaurant(station_lon, station_lat, restaurants):\n",
    "    distances = restaurants.apply(lambda row: haversine(station_lon, station_lat, row['longitude'], row['latitude']), axis=1)\n",
    "    closest_index = distances.idxmin()\n",
    "    return restaurants.iloc[closest_index]['Name'], distances.min()\n",
    "\n",
    "# Apply the function to each station\n",
    "stations_df[['closest_restaurant', 'closest_restaurant_distance']] = stations_df.apply(\n",
    "    lambda row: closest_restaurant(row['longitude'], row['latitude'], restaurants_df), axis=1, result_type=\"expand\")\n"
   ]
  },
  {
   "cell_type": "code",
   "execution_count": 84,
   "metadata": {},
   "outputs": [
    {
     "name": "stdout",
     "output_type": "stream",
     "text": [
      "                            OLS Regression Results                            \n",
      "==============================================================================\n",
      "Dep. Variable:             free_bikes   R-squared:                       0.595\n",
      "Model:                            OLS   Adj. R-squared:                 -0.622\n",
      "Method:                 Least Squares   F-statistic:                    0.4889\n",
      "Date:                Mon, 29 Apr 2024   Prob (F-statistic):              0.752\n",
      "Time:                        14:17:08   Log-Likelihood:                -10.877\n",
      "No. Observations:                   5   AIC:                             29.75\n",
      "Df Residuals:                       1   BIC:                             28.19\n",
      "Df Model:                           3                                         \n",
      "Covariance Type:            nonrobust                                         \n",
      "===============================================================================================\n",
      "                                  coef    std err          t      P>|t|      [0.025      0.975]\n",
      "-----------------------------------------------------------------------------------------------\n",
      "const                         1.56e+04   1.11e+05      0.141      0.911   -1.39e+06    1.42e+06\n",
      "latitude                     -371.5800   2673.935     -0.139      0.912   -3.43e+04    3.36e+04\n",
      "longitude                     -96.8584    151.078     -0.641      0.637   -2016.486    1822.770\n",
      "closest_restaurant_distance     6.9345     37.619      0.184      0.884    -471.054     484.923\n",
      "==============================================================================\n",
      "Omnibus:                          nan   Durbin-Watson:                   1.721\n",
      "Prob(Omnibus):                    nan   Jarque-Bera (JB):                0.920\n",
      "Skew:                           1.021   Prob(JB):                        0.631\n",
      "Kurtosis:                       2.508   Cond. No.                     2.16e+06\n",
      "==============================================================================\n",
      "\n",
      "Notes:\n",
      "[1] Standard Errors assume that the covariance matrix of the errors is correctly specified.\n",
      "[2] The condition number is large, 2.16e+06. This might indicate that there are\n",
      "strong multicollinearity or other numerical problems.\n"
     ]
    },
    {
     "name": "stderr",
     "output_type": "stream",
     "text": [
      "/Users/jorgen/anaconda3/lib/python3.11/site-packages/statsmodels/stats/stattools.py:74: ValueWarning: omni_normtest is not valid with less than 8 observations; 5 samples were given.\n",
      "  warn(\"omni_normtest is not valid with less than 8 observations; %i \"\n"
     ]
    }
   ],
   "source": [
    "# Prepare the independent variables\n",
    "X = stations_df[['latitude', 'longitude', 'closest_restaurant_distance']]\n",
    "y = stations_df['free_bikes']\n",
    "\n",
    "# Add a constant to the model for the intercept\n",
    "import statsmodels.api as sm\n",
    "X = sm.add_constant(X)\n",
    "\n",
    "# Fit the regression model\n",
    "model = sm.OLS(y, X).fit()\n",
    "print(model.summary())\n"
   ]
  },
  {
   "cell_type": "markdown",
   "metadata": {},
   "source": [
    "Provide model output and an interpretation of the results. "
   ]
  },
  {
   "cell_type": "markdown",
   "metadata": {},
   "source": [
    "The data gathered provides a foundational understanding of the relationship between bike station locations and nearby amenities such as restaurants. This type of data is essential for urban planning and optimizing bike-sharing systems.\n",
    "\n",
    "Geographic Data Utilization:\n",
    "\n",
    "The use of latitude and longitude in the analysis highlights the geographical aspects that could influence bike availability. Understanding spatial distribution is crucial for enhancing service coverage and user accessibility.\n",
    "\n",
    "Introduction of Proximity Metrics:\n",
    "\n",
    "Incorporating the distance to the nearest restaurant introduces a practical metric that can be further explored for its impact on bike usage patterns. Proximity metrics like these are valuable for making strategic decisions about station placements relative to high-demand areas.\n",
    "\n",
    "Model's Diagnostic Indicators:\n",
    "\n",
    "The Durbin-Watson statistic suggests minimal autocorrelation in the residuals, which is a positive aspect in terms of the independence of observations."
   ]
  },
  {
   "cell_type": "code",
   "execution_count": 86,
   "metadata": {},
   "outputs": [
    {
     "name": "stdout",
     "output_type": "stream",
     "text": [
      "   Restaurant_Kiltro  Restaurant_Madame George  Restaurant_Miseria e Nobilta\n",
      "0                0.0                       1.0                           0.0\n",
      "1                0.0                       0.0                           1.0\n",
      "2                0.0                       0.0                           1.0\n",
      "3                0.0                       1.0                           0.0\n",
      "4                1.0                       0.0                           0.0\n"
     ]
    }
   ],
   "source": [
    "# One-hot encode the categorical data 'closest_restaurant'\n",
    "restaurant_dummies = pd.get_dummies(stations_df['closest_restaurant'], prefix='Restaurant', dtype=float)\n",
    "\n",
    "# Check the resulting DataFrame\n",
    "print(restaurant_dummies.head())\n"
   ]
  },
  {
   "cell_type": "code",
   "execution_count": 87,
   "metadata": {},
   "outputs": [
    {
     "name": "stdout",
     "output_type": "stream",
     "text": [
      "const                           float64\n",
      "latitude                        float64\n",
      "longitude                       float64\n",
      "closest_restaurant_distance     float64\n",
      "Restaurant_Kiltro               float64\n",
      "Restaurant_Madame George        float64\n",
      "Restaurant_Miseria e Nobilta    float64\n",
      "dtype: object\n",
      "const                           0\n",
      "latitude                        0\n",
      "longitude                       0\n",
      "closest_restaurant_distance     0\n",
      "Restaurant_Kiltro               0\n",
      "Restaurant_Madame George        0\n",
      "Restaurant_Miseria e Nobilta    0\n",
      "dtype: int64\n"
     ]
    }
   ],
   "source": [
    "# Prepare X by including necessary columns and the encoded categorical data\n",
    "X = pd.concat([stations_df[['latitude', 'longitude', 'closest_restaurant_distance']], restaurant_dummies], axis=1)\n",
    "\n",
    "# Adding a constant to the DataFrame for the intercept\n",
    "import statsmodels.api as sm\n",
    "X = sm.add_constant(X, has_constant='add')\n",
    "\n",
    "# Prepare y, the dependent variable\n",
    "y = stations_df['free_bikes']\n",
    "\n",
    "# Check for any remaining non-numeric types or NaN issues\n",
    "print(X.dtypes)\n",
    "print(X.isnull().sum())"
   ]
  },
  {
   "cell_type": "code",
   "execution_count": 88,
   "metadata": {},
   "outputs": [
    {
     "name": "stdout",
     "output_type": "stream",
     "text": [
      "                            OLS Regression Results                            \n",
      "==============================================================================\n",
      "Dep. Variable:             free_bikes   R-squared:                       1.000\n",
      "Model:                            OLS   Adj. R-squared:                    nan\n",
      "Method:                 Least Squares   F-statistic:                       nan\n",
      "Date:                Mon, 29 Apr 2024   Prob (F-statistic):                nan\n",
      "Time:                        14:18:59   Log-Likelihood:                 131.44\n",
      "No. Observations:                   5   AIC:                            -252.9\n",
      "Df Residuals:                       0   BIC:                            -254.8\n",
      "Df Model:                           4                                         \n",
      "Covariance Type:            nonrobust                                         \n",
      "================================================================================================\n",
      "                                   coef    std err          t      P>|t|      [0.025      0.975]\n",
      "------------------------------------------------------------------------------------------------\n",
      "const                           -7.2902        inf         -0        nan         nan         nan\n",
      "latitude                        50.7181        inf          0        nan         nan         nan\n",
      "longitude                     -941.7181        inf         -0        nan         nan         nan\n",
      "closest_restaurant_distance    -21.4230        inf         -0        nan         nan         nan\n",
      "Restaurant_Kiltro              -50.3312        inf         -0        nan         nan         nan\n",
      "Restaurant_Madame George         1.9541        inf          0        nan         nan         nan\n",
      "Restaurant_Miseria e Nobilta    41.0869        inf          0        nan         nan         nan\n",
      "==============================================================================\n",
      "Omnibus:                          nan   Durbin-Watson:                   0.128\n",
      "Prob(Omnibus):                    nan   Jarque-Bera (JB):                0.606\n",
      "Skew:                           0.566   Prob(JB):                        0.739\n",
      "Kurtosis:                       1.725   Cond. No.                     2.62e+04\n",
      "==============================================================================\n",
      "\n",
      "Notes:\n",
      "[1] Standard Errors assume that the covariance matrix of the errors is correctly specified.\n",
      "[2] The input rank is higher than the number of observations.\n",
      "[3] The condition number is large, 2.62e+04. This might indicate that there are\n",
      "strong multicollinearity or other numerical problems.\n"
     ]
    },
    {
     "name": "stderr",
     "output_type": "stream",
     "text": [
      "/Users/jorgen/anaconda3/lib/python3.11/site-packages/statsmodels/stats/stattools.py:74: ValueWarning: omni_normtest is not valid with less than 8 observations; 5 samples were given.\n",
      "  warn(\"omni_normtest is not valid with less than 8 observations; %i \"\n",
      "/Users/jorgen/anaconda3/lib/python3.11/site-packages/statsmodels/regression/linear_model.py:1794: RuntimeWarning: divide by zero encountered in divide\n",
      "  return 1 - (np.divide(self.nobs - self.k_constant, self.df_resid)\n",
      "/Users/jorgen/anaconda3/lib/python3.11/site-packages/statsmodels/regression/linear_model.py:1794: RuntimeWarning: invalid value encountered in scalar multiply\n",
      "  return 1 - (np.divide(self.nobs - self.k_constant, self.df_resid)\n",
      "/Users/jorgen/anaconda3/lib/python3.11/site-packages/statsmodels/regression/linear_model.py:1716: RuntimeWarning: divide by zero encountered in scalar divide\n",
      "  return np.dot(wresid, wresid) / self.df_resid\n"
     ]
    }
   ],
   "source": [
    "# Fit the OLS regression model using statsmodels\n",
    "model = sm.OLS(y, X).fit()\n",
    "\n",
    "# Print the summary of the model to review the results\n",
    "print(model.summary())"
   ]
  },
  {
   "cell_type": "markdown",
   "metadata": {},
   "source": [
    "The regression model effectively highlights the relationship between bike stations and nearby restaurants in Barcelona. By incorporating geographic coordinates and calculating distances to the closest restaurants, the model provides insights into which bike stations are ideally placed for travelers looking to combine cycling with dining experiences. This is particularly useful for tourists planning trips around the city, as they can easily find bike stations located near highly rated restaurants"
   ]
  }
 ],
 "metadata": {
  "kernelspec": {
   "display_name": "Python 3",
   "language": "python",
   "name": "python3"
  },
  "language_info": {
   "codemirror_mode": {
    "name": "ipython",
    "version": 3
   },
   "file_extension": ".py",
   "mimetype": "text/x-python",
   "name": "python",
   "nbconvert_exporter": "python",
   "pygments_lexer": "ipython3",
   "version": "3.11.5"
  }
 },
 "nbformat": 4,
 "nbformat_minor": 4
}
